{
  "nbformat": 4,
  "nbformat_minor": 0,
  "metadata": {
    "colab": {
      "provenance": []
    },
    "kernelspec": {
      "name": "python3",
      "display_name": "Python 3"
    },
    "language_info": {
      "name": "python"
    }
  },
  "cells": [
    {
      "cell_type": "code",
      "source": [
        "import torch\n",
        "import torch.nn as nn\n",
        "import torch.nn.functional as F\n",
        "import numpy as np\n",
        "import torch.optim as optim\n",
        "import torch.nn.functional as F\n",
        "from torch.nn.utils import clip_grad_norm_\n",
        "import random\n",
        "import math\n",
        "from torch.utils.tensorboard import SummaryWriter\n",
        "from collections import deque, namedtuple\n",
        "import time\n",
        "import gym\n",
        "\n",
        "\n",
        "def weight_init(layers):\n",
        "    for layer in layers:\n",
        "        torch.nn.init.kaiming_normal_(layer.weight, nonlinearity='relu')"
      ],
      "metadata": {
        "id": "ZD9mM5LPum6C"
      },
      "execution_count": null,
      "outputs": []
    },
    {
      "cell_type": "code",
      "source": [
        "class QR_DQN(nn.Module):\n",
        "    def __init__(self, state_size, action_size,layer_size, n_step, seed, N, layer_type=\"ff\"):\n",
        "        super(QR_DQN, self).__init__()\n",
        "        self.seed = torch.manual_seed(seed)\n",
        "        self.input_shape = state_size\n",
        "        self.action_size = action_size\n",
        "        self.N = N\n",
        "\n",
        "        self.head_1 = nn.Linear(self.input_shape[0], layer_size)\n",
        "        self.ff_1 = nn.Linear(layer_size, layer_size)\n",
        "        self.ff_2 = nn.Linear(layer_size, action_size*N)\n",
        "        weight_init([self.head_1, self.ff_1])\n",
        "\n",
        "\n",
        "    \n",
        "    def forward(self, input):\n",
        "        \"\"\"\n",
        "        \n",
        "        \"\"\"\n",
        "        x = torch.relu(self.head_1(input))\n",
        "        x = torch.relu(self.ff_1(x))\n",
        "        out = self.ff_2(x)\n",
        "        \n",
        "        return out.view(input.shape[0], self.N, self.action_size)\n",
        "    def get_action(self,input):\n",
        "        x = self.forward(input)\n",
        "        return x.mean(dim=1)\n",
        "\n",
        "\n",
        "class ReplayBuffer:\n",
        "    \"\"\"Fixed-size buffer to store experience tuples.\"\"\"\n",
        "\n",
        "    def __init__(self, buffer_size, batch_size, device, seed, gamma, n_step=1):\n",
        "        \"\"\"Initialize a ReplayBuffer object.\n",
        "        Params\n",
        "        ======\n",
        "            buffer_size (int): maximum size of buffer\n",
        "            batch_size (int): size of each training batch\n",
        "            seed (int): random seed\n",
        "        \"\"\"\n",
        "        self.device = device\n",
        "        self.memory = deque(maxlen=buffer_size)  \n",
        "        self.batch_size = batch_size\n",
        "        self.experience = namedtuple(\"Experience\", field_names=[\"state\", \"action\", \"reward\", \"next_state\", \"done\"])\n",
        "        self.seed = random.seed(seed)\n",
        "        self.gamma = gamma\n",
        "        self.n_step = n_step\n",
        "        self.n_step_buffer = deque(maxlen=self.n_step)\n",
        "    \n",
        "    def add(self, state, action, reward, next_state, done):\n",
        "        \"\"\"Add a new experience to memory.\"\"\"\n",
        "        #print(\"before:\", state,action,reward,next_state, done)\n",
        "        self.n_step_buffer.append((state, action, reward, next_state, done))\n",
        "        if len(self.n_step_buffer) == self.n_step:\n",
        "            state, action, reward, next_state, done = self.calc_multistep_return()\n",
        "            #print(\"after:\",state,action,reward,next_state, done)\n",
        "            e = self.experience(state, action, reward, next_state, done)\n",
        "            self.memory.append(e)\n",
        "    \n",
        "    def calc_multistep_return(self):\n",
        "        Return = 0\n",
        "        for idx in range(self.n_step):\n",
        "            Return += self.gamma**idx * self.n_step_buffer[idx][2]\n",
        "        \n",
        "        return self.n_step_buffer[0][0], self.n_step_buffer[0][1], Return, self.n_step_buffer[-1][3], self.n_step_buffer[-1][4]\n",
        "        \n",
        "    \n",
        "    \n",
        "    def sample(self):\n",
        "        \"\"\"Randomly sample a batch of experiences from memory.\"\"\"\n",
        "        experiences = random.sample(self.memory, k=self.batch_size)\n",
        "\n",
        "        states = torch.from_numpy(np.stack([e.state for e in experiences if e is not None])).float().to(self.device)\n",
        "        actions = torch.from_numpy(np.vstack([e.action for e in experiences if e is not None])).long().to(self.device)\n",
        "        rewards = torch.from_numpy(np.vstack([e.reward for e in experiences if e is not None])).float().to(self.device)\n",
        "        next_states = torch.from_numpy(np.stack([e.next_state for e in experiences if e is not None])).float().to(self.device)\n",
        "        dones = torch.from_numpy(np.vstack([e.done for e in experiences if e is not None]).astype(np.uint8)).float().to(self.device)\n",
        "  \n",
        "        return (states, actions, rewards, next_states, dones)\n",
        "\n",
        "    def __len__(self):\n",
        "        \"\"\"Return the current size of internal memory.\"\"\"\n",
        "        return len(self.memory)\n",
        "\n",
        "\n",
        "class DQN_Agent():\n",
        "    \"\"\"Interacts with and learns from the environment.\"\"\"\n",
        "\n",
        "    def __init__(self,\n",
        "                 state_size,\n",
        "                 action_size,\n",
        "                 Network,\n",
        "                 layer_size,\n",
        "                 n_step,\n",
        "                 BATCH_SIZE,\n",
        "                 BUFFER_SIZE,\n",
        "                 LR,\n",
        "                 TAU,\n",
        "                 GAMMA,\n",
        "                 UPDATE_EVERY,\n",
        "                 device,\n",
        "                 seed):\n",
        "        \"\"\"Initialize an Agent object.\n",
        "        \n",
        "        Params\n",
        "        ======\n",
        "            state_size (int): dimension of each state\n",
        "            action_size (int): dimension of each action\n",
        "            Network (str): dqn network type\n",
        "            layer_size (int): size of the hidden layer\n",
        "            BATCH_SIZE (int): size of the training batch\n",
        "            BUFFER_SIZE (int): size of the replay memory\n",
        "            LR (float): learning rate\n",
        "            TAU (float): tau for soft updating the network weights\n",
        "            GAMMA (float): discount factor\n",
        "            UPDATE_EVERY (int): update frequency\n",
        "            device (str): device that is used for the compute\n",
        "            seed (int): random seed\n",
        "        \"\"\"\n",
        "        self.state_size = state_size\n",
        "        self.action_size = action_size\n",
        "        self.seed = random.seed(seed)\n",
        "        self.device = device\n",
        "        self.TAU = TAU\n",
        "        self.GAMMA = GAMMA\n",
        "        self.UPDATE_EVERY = UPDATE_EVERY\n",
        "        self.BATCH_SIZE = BATCH_SIZE\n",
        "        self.Q_updates = 0\n",
        "        self.n_step = n_step\n",
        "        self.N = 32\n",
        "        self.quantile_tau = torch.FloatTensor([i/self.N for i in range(1,self.N+1)]).to(device)\n",
        "\n",
        "        self.action_step = 4\n",
        "        self.last_action = None\n",
        "\n",
        "        # Q-Network\n",
        "        self.qnetwork_local = QR_DQN(state_size, action_size,layer_size, n_step, seed, self.N).to(device)\n",
        "        self.qnetwork_target = QR_DQN(state_size, action_size,layer_size, n_step, seed, self.N).to(device)\n",
        "\n",
        "        self.optimizer = optim.Adam(self.qnetwork_local.parameters(), lr=LR)\n",
        "        print(self.qnetwork_local)\n",
        "        \n",
        "        # Replay memory\n",
        "        self.memory = ReplayBuffer(BUFFER_SIZE, BATCH_SIZE, self.device, seed, self.GAMMA, n_step)\n",
        "        \n",
        "        # Initialize time step (for updating every UPDATE_EVERY steps)\n",
        "        self.t_step = 0\n",
        "    \n",
        "    def step(self, state, action, reward, next_state, done, writer):\n",
        "        # Save experience in replay memory\n",
        "        self.memory.add(state, action, reward, next_state, done)\n",
        "        \n",
        "        # Learn every UPDATE_EVERY time steps.\n",
        "        self.t_step = (self.t_step + 1) % self.UPDATE_EVERY\n",
        "        if self.t_step == 0:\n",
        "            # If enough samples are available in memory, get random subset and learn\n",
        "            if len(self.memory) > self.BATCH_SIZE:\n",
        "                experiences = self.memory.sample()\n",
        "                loss = self.learn(experiences)\n",
        "                self.Q_updates += 1\n",
        "                writer.add_scalar(\"Q_loss\", loss, self.Q_updates)\n",
        "\n",
        "    def act(self, state, eps=0.):\n",
        "        \"\"\"Returns actions for given state as per current policy. Acting only every 4 frames!\n",
        "        \n",
        "        Params\n",
        "        ======\n",
        "            frame: to adjust epsilon\n",
        "            state (array_like): current state\n",
        "            \n",
        "        \"\"\"\n",
        "\n",
        "        if self.action_step == 4:\n",
        "            state = np.array(state)\n",
        "\n",
        "            state = torch.from_numpy(state).float().unsqueeze(0).to(self.device)\n",
        "            self.qnetwork_local.eval()\n",
        "            with torch.no_grad():\n",
        "                action_values = self.qnetwork_local.get_action(state)\n",
        "            self.qnetwork_local.train()\n",
        "\n",
        "            # Epsilon-greedy action selection\n",
        "            if random.random() > eps: # select greedy action if random number is higher than epsilon or noisy network is used!\n",
        "                action = np.argmax(action_values.cpu().data.numpy())\n",
        "                self.last_action = action\n",
        "                return action\n",
        "            else:\n",
        "                action = random.choice(np.arange(self.action_size))\n",
        "                self.last_action = action \n",
        "                return action\n",
        "            #self.action_step = 0\n",
        "        else:\n",
        "            self.action_step += 1\n",
        "            return self.last_action\n",
        "\n",
        "    def learn(self, experiences):\n",
        "        \"\"\"Update value parameters using given batch of experience tuples.\n",
        "        Params\n",
        "        ======\n",
        "            experiences (Tuple[torch.Tensor]): tuple of (s, a, r, s', done) tuples \n",
        "            gamma (float): discount factor\n",
        "        \"\"\"\n",
        "        self.optimizer.zero_grad()\n",
        "        states, actions, rewards, next_states, dones = experiences\n",
        "        # Get max predicted Q values (for next states) from target model\n",
        "        Q_targets_next = self.qnetwork_target(next_states).detach().cpu() #.max(2)[0].unsqueeze(1) #(batch_size, 1, N)\n",
        "        action_indx = torch.argmax(Q_targets_next.mean(dim=1), dim=1, keepdim=True)\n",
        "\n",
        "        Q_targets_next = Q_targets_next.gather(2, action_indx.unsqueeze(-1).expand(self.BATCH_SIZE, self.N, 1)).transpose(1,2)\n",
        "\n",
        "        assert Q_targets_next.shape == (self.BATCH_SIZE,1, self.N)\n",
        "        # Compute Q targets for current states \n",
        "        Q_targets = rewards.unsqueeze(-1) + (self.GAMMA**self.n_step * Q_targets_next.to(self.device) * (1 - dones.unsqueeze(-1)))\n",
        "        # Get expected Q values from local model\n",
        "        Q_expected = self.qnetwork_local(states).gather(2, actions.unsqueeze(-1).expand(self.BATCH_SIZE, self.N, 1))\n",
        "        # Compute loss\n",
        "        td_error = Q_targets - Q_expected\n",
        "        assert td_error.shape == (self.BATCH_SIZE, self.N, self.N), \"wrong td error shape\"\n",
        "        huber_l = calculate_huber_loss(td_error, 1.0)\n",
        "        quantil_l = abs(self.quantile_tau -(td_error.detach() < 0).float()) * huber_l / 1.0\n",
        "\n",
        "        loss = quantil_l.sum(dim=1).mean(dim=1) # , keepdim=True if per weights get multipl\n",
        "        loss = loss.mean()\n",
        "        # Minimize the loss\n",
        "        loss.backward()\n",
        "        #clip_grad_norm_(self.qnetwork_local.parameters(),1)\n",
        "        self.optimizer.step()\n",
        "\n",
        "        # ------------------- update target network ------------------- #\n",
        "        self.soft_update(self.qnetwork_local, self.qnetwork_target)\n",
        "        return loss.detach().cpu().numpy()            \n",
        "\n",
        "    def soft_update(self, local_model, target_model):\n",
        "        \"\"\"Soft update model parameters.\n",
        "        θ_target = τ*θ_local + (1 - τ)*θ_target\n",
        "        Params\n",
        "        ======\n",
        "            local_model (PyTorch model): weights will be copied from\n",
        "            target_model (PyTorch model): weights will be copied to\n",
        "            tau (float): interpolation parameter \n",
        "        \"\"\"\n",
        "        for target_param, local_param in zip(target_model.parameters(), local_model.parameters()):\n",
        "            target_param.data.copy_(self.TAU*local_param.data + (1.0-self.TAU)*target_param.data)\n",
        "            \n",
        "def calculate_huber_loss(td_errors, k=1.0):\n",
        "    \"\"\"\n",
        "    Calculate huber loss element-wisely depending on kappa k.\n",
        "    \"\"\"\n",
        "    loss = torch.where(td_errors.abs() <= k, 0.5 * td_errors.pow(2), k * (td_errors.abs() - 0.5 * k))\n",
        "    assert loss.shape == (td_errors.shape[0], 32, 32), \"huber loss has wrong shape\"\n",
        "    return loss\n",
        "\n",
        "def eval_runs(eps, frame):\n",
        "    \"\"\"\n",
        "    Makes an evaluation run with the current epsilon\n",
        "    \"\"\"\n",
        "    env = gym.make(\"CartPole-v0\")\n",
        "    reward_batch = []\n",
        "    for i in range(5):\n",
        "        state = env.reset()\n",
        "        rewards = 0\n",
        "        while True:\n",
        "            action = agent.act(state, eps)\n",
        "            state, reward, done, _ = env.step(action)\n",
        "            rewards += reward\n",
        "            if done:\n",
        "                break\n",
        "        reward_batch.append(rewards)\n",
        "        \n",
        "    writer.add_scalar(\"Reward\", np.mean(reward_batch), frame)"
      ],
      "metadata": {
        "id": "Bm21oFfouniG"
      },
      "execution_count": null,
      "outputs": []
    },
    {
      "cell_type": "code",
      "source": [
        "def run(frames=1000, eps_fixed=False, eps_frames=1e6, min_eps=0.01):\n",
        "    \"\"\"Deep Q-Learning.\n",
        "    \n",
        "    Params\n",
        "    ======\n",
        "        n_episodes (int): maximum number of training episodes\n",
        "        max_t (int): maximum number of timesteps per episode\n",
        "        eps_start (float): starting value of epsilon, for epsilon-greedy action selection\n",
        "        eps_end (float): minimum value of epsilon\n",
        "        eps_decay (float): multiplicative factor (per episode) for decreasing epsilon\n",
        "    \"\"\"\n",
        "    scores = []                        # list containing scores from each episode\n",
        "    scores_window = deque(maxlen=100)  # last 100 scores\n",
        "    output_history = []\n",
        "    frame = 0\n",
        "    if eps_fixed:\n",
        "        eps = 0\n",
        "    else:\n",
        "        eps = 1\n",
        "    eps_start = 1\n",
        "    i_episode = 1\n",
        "    state = env.reset()\n",
        "    score = 0                  \n",
        "    for frame in range(1, frames+1):\n",
        "\n",
        "        action = agent.act(state, eps)\n",
        "        next_state, reward, done, _ = env.step(action)\n",
        "        agent.step(state, action, reward, next_state, done, writer)\n",
        "        state = next_state\n",
        "        score += reward\n",
        "        # linear annealing to the min epsilon value until eps_frames and from there slowly decease epsilon to 0 until the end of training\n",
        "        if eps_fixed == False:\n",
        "            if frame < eps_frames:\n",
        "                eps = max(eps_start - (frame*(1/eps_frames)), min_eps)\n",
        "            else:\n",
        "                eps = max(min_eps - min_eps*((frame-eps_frames)/(frames-eps_frames)), 0.001)\n",
        "\n",
        "        # evaluation runs\n",
        "        if frame % 1000 == 0:\n",
        "            eval_runs(eps, frame)\n",
        "        \n",
        "        if done:\n",
        "            scores_window.append(score)       # save most recent score\n",
        "            scores.append(score)              # save most recent score\n",
        "            writer.add_scalar(\"Average100\", np.mean(scores_window), frame)\n",
        "            output_history.append(np.mean(scores_window))\n",
        "            print('\\rEpisode {}\\tFrame {} \\tAverage Score: {:.2f}'.format(i_episode, frame, np.mean(scores_window)), end=\"\")\n",
        "            if i_episode % 100 == 0:\n",
        "                print('\\rEpisode {}\\tFrame {}\\tAverage Score: {:.2f}'.format(i_episode,frame, np.mean(scores_window)))\n",
        "            i_episode +=1 \n",
        "            state = env.reset()\n",
        "            score = 0              \n",
        "\n",
        "    return output_history\n",
        "\n",
        "\n",
        "if __name__ == \"__main__\":\n",
        "    \n",
        "    writer = SummaryWriter(\"runs/\"+\"DQN_LL_new_1\")\n",
        "    seed = 1\n",
        "    BUFFER_SIZE = 100000\n",
        "    BATCH_SIZE = 32\n",
        "    GAMMA = 0.99\n",
        "    TAU = 1e-2\n",
        "    LR = 1e-3\n",
        "    UPDATE_EVERY = 1\n",
        "    n_step = 1\n",
        "    device = torch.device(\"cuda:0\" if torch.cuda.is_available() else \"cpu\")\n",
        "    print(\"Using \", device)\n",
        "\n",
        "\n",
        "\n",
        "\n",
        "    np.random.seed(seed)\n",
        "    env = gym.make(\"CartPole-v0\")\n",
        "\n",
        "    env.seed(seed)\n",
        "    action_size     = env.action_space.n\n",
        "    state_size = env.observation_space.shape\n",
        "\n",
        "    agent = DQN_Agent(state_size=state_size,    \n",
        "                        action_size=action_size,\n",
        "                        Network=\"DDQN\",\n",
        "                        layer_size=256,\n",
        "                        n_step=n_step,\n",
        "                        BATCH_SIZE=BATCH_SIZE, \n",
        "                        BUFFER_SIZE=BUFFER_SIZE, \n",
        "                        LR=LR, \n",
        "                        TAU=TAU, \n",
        "                        GAMMA=GAMMA, \n",
        "                        UPDATE_EVERY=UPDATE_EVERY, \n",
        "                        device=device, \n",
        "                        seed=seed)\n",
        "\n",
        "\n",
        "\n",
        "    # set epsilon frames to 0 so no epsilon exploration\n",
        "    eps_fixed = False\n",
        "\n",
        "    t0 = time.time()\n",
        "    final_average100 = run(frames = 45000, eps_fixed=eps_fixed, eps_frames=5000, min_eps=0.025)\n",
        "    t1 = time.time()\n",
        "    \n",
        "    print(\"Training time: {}min\".format(round((t1-t0)/60,2)))\n",
        "    torch.save(agent.qnetwork_local.state_dict(), \"DQN\"+\".pth\")"
      ],
      "metadata": {
        "colab": {
          "base_uri": "https://localhost:8080/"
        },
        "id": "kTY_nyW3unlR",
        "outputId": "9bb69a17-a2a7-4641-d5be-a1ab19e359fc"
      },
      "execution_count": null,
      "outputs": [
        {
          "output_type": "stream",
          "name": "stdout",
          "text": [
            "Using  cpu\n",
            "QR_DQN(\n",
            "  (head_1): Linear(in_features=4, out_features=256, bias=True)\n",
            "  (ff_1): Linear(in_features=256, out_features=256, bias=True)\n",
            "  (ff_2): Linear(in_features=256, out_features=64, bias=True)\n",
            ")\n",
            "Episode 100\tFrame 5839\tAverage Score: 58.39\n",
            "Episode 200\tFrame 23060\tAverage Score: 172.21\n",
            "Episode 300\tFrame 42919\tAverage Score: 198.59\n",
            "Episode 310\tFrame 44919 \tAverage Score: 198.59Training time: 3.47min\n"
          ]
        }
      ]
    },
    {
      "cell_type": "code",
      "source": [],
      "metadata": {
        "id": "JPZmK1NEunol"
      },
      "execution_count": null,
      "outputs": []
    },
    {
      "cell_type": "code",
      "source": [],
      "metadata": {
        "id": "1rhGfuV6unrZ"
      },
      "execution_count": null,
      "outputs": []
    },
    {
      "cell_type": "code",
      "source": [],
      "metadata": {
        "id": "daASoDjOunuZ"
      },
      "execution_count": null,
      "outputs": []
    },
    {
      "cell_type": "code",
      "source": [],
      "metadata": {
        "id": "GZlWiMZLunxc"
      },
      "execution_count": null,
      "outputs": []
    },
    {
      "cell_type": "code",
      "source": [],
      "metadata": {
        "id": "JzVPWrDQun0J"
      },
      "execution_count": null,
      "outputs": []
    },
    {
      "cell_type": "code",
      "source": [],
      "metadata": {
        "id": "QqpcQQEeun3F"
      },
      "execution_count": null,
      "outputs": []
    },
    {
      "cell_type": "code",
      "source": [],
      "metadata": {
        "id": "pc2yXb_fun6z"
      },
      "execution_count": null,
      "outputs": []
    },
    {
      "cell_type": "code",
      "source": [],
      "metadata": {
        "id": "1SqMSGPSun-F"
      },
      "execution_count": null,
      "outputs": []
    },
    {
      "cell_type": "code",
      "source": [],
      "metadata": {
        "id": "vjYX4xnZuoA8"
      },
      "execution_count": null,
      "outputs": []
    },
    {
      "cell_type": "code",
      "source": [
        "# !pip install ale-py==0.7.4\n",
        "!pip install sb3_contrib\n",
        "!pip install stable_baselines3\n",
        "# !pip install stable_baselines3[extra]"
      ],
      "metadata": {
        "id": "j4MR_kBo3yeJ"
      },
      "execution_count": null,
      "outputs": []
    },
    {
      "cell_type": "code",
      "source": [
        "import gym\n",
        "from sb3_contrib import QRDQN\n",
        "# from stable_baselines3.common.env_util import make_atari_env\n",
        "from stable_baselines3.common.evaluation import evaluate_policy\n",
        "from stable_baselines3.common.monitor import Monitor\n",
        "from time import perf_counter\n",
        "from matplotlib import pyplot as plt"
      ],
      "metadata": {
        "id": "wQP2mS8k3tFX"
      },
      "execution_count": null,
      "outputs": []
    },
    {
      "cell_type": "code",
      "execution_count": null,
      "metadata": {
        "id": "flOS7jkhyA3a"
      },
      "outputs": [],
      "source": [
        "# env = make_atari_env('Breakout-v0')\n",
        "env = gym.make('CartPole-v1')\n",
        "quantiles_domain = range(1, 100, 4)"
      ]
    },
    {
      "cell_type": "code",
      "source": [
        "# ATARI\n",
        "# hyperparams = {\n",
        "#   \"exploration_fraction\": 0.025,  # explore 250k steps = 10M * 0.025\n",
        "#   \"optimize_memory_usage\": True\n",
        "# }\n",
        "# CARTPOLE\n",
        "hyperparams = {\n",
        "\"learning_rate\": 0.0023,\n",
        "\"batch_size\": 64,\n",
        "\"buffer_size\": 100000,\n",
        "\"learning_starts\": 1000,\n",
        "\"target_update_interval\": 10,\n",
        "\"train_freq\": 256,\n",
        "\"gradient_steps\": 128,\n",
        "\"exploration_fraction\": 0.16,\n",
        "\"exploration_final_eps\": 0.04\n",
        "}"
      ],
      "metadata": {
        "id": "vRbMl92aFYmh"
      },
      "execution_count": null,
      "outputs": []
    },
    {
      "cell_type": "code",
      "source": [
        "means = []\n",
        "stds = []\n",
        "times = []\n",
        "\n",
        "# MlpPolicy for CartPole; CnnPolicy for Atari\n",
        "for q in quantiles_domain:\n",
        "    model = QRDQN('MlpPolicy', env, verbose=0, **hyperparams, policy_kwargs=dict(n_quantiles=q))\n",
        "\n",
        "    start_perf = perf_counter()\n",
        "    model.learn(total_timesteps=20000)  # how many for CartPole?\n",
        "    end_perf = perf_counter()\n",
        "    \n",
        "    val, std = evaluate_policy(model, Monitor(env), n_eval_episodes=150)  # 200 for CartPole\n",
        "    \n",
        "    means.append(val)\n",
        "    stds.append(std)\n",
        "    print(f\"mean reward: {val}; std: {std}\")\n",
        "    times.append(end_perf - start_perf)\n",
        "    print(f\"training time: {end_perf - start_perf}\")"
      ],
      "metadata": {
        "id": "lJf2FLdUw7f5",
        "colab": {
          "base_uri": "https://localhost:8080/"
        },
        "outputId": "d380d4b5-c4f5-40ad-fd4c-9b763e3fef28"
      },
      "execution_count": null,
      "outputs": [
        {
          "output_type": "stream",
          "name": "stdout",
          "text": [
            "mean reward: 436.23333333333335; std: 100.60930484911533\n",
            "training time: 25.96990473699998\n",
            "mean reward: 126.57333333333334; std: 2.735803761643408\n",
            "training time: 26.962246383000092\n",
            "mean reward: 500.0; std: 0.0\n",
            "training time: 27.659743052999602\n",
            "mean reward: 100.52; std: 5.11692616062938\n",
            "training time: 29.273035489999984\n",
            "mean reward: 222.48; std: 18.60993283168964\n",
            "training time: 30.139815350999925\n",
            "mean reward: 161.18666666666667; std: 12.287330421572005\n",
            "training time: 31.846728460000122\n",
            "mean reward: 500.0; std: 0.0\n",
            "training time: 34.21224080000002\n",
            "mean reward: 295.3466666666667; std: 184.53039448526872\n",
            "training time: 36.95469819400023\n",
            "mean reward: 201.01333333333332; std: 10.700147454851058\n",
            "training time: 47.49501910700019\n",
            "mean reward: 477.86; std: 49.43319127873498\n",
            "training time: 54.105006500999934\n",
            "mean reward: 184.42; std: 7.905500195011909\n",
            "training time: 59.22297099000025\n",
            "mean reward: 431.74666666666667; std: 115.05843075971829\n",
            "training time: 66.23794929799988\n",
            "mean reward: 490.92; std: 35.80959275575936\n",
            "training time: 72.78763672100013\n",
            "mean reward: 160.73333333333332; std: 14.803903389159075\n",
            "training time: 79.66328315700002\n",
            "mean reward: 355.87333333333333; std: 127.35013658763343\n",
            "training time: 88.88681343400003\n",
            "mean reward: 188.17333333333335; std: 15.189797745709306\n",
            "training time: 97.20834723400003\n",
            "mean reward: 121.16666666666667; std: 13.89456328528856\n",
            "training time: 108.11869618000037\n",
            "mean reward: 500.0; std: 0.0\n",
            "training time: 119.6542854029999\n",
            "mean reward: 500.0; std: 0.0\n",
            "training time: 128.54969413000026\n",
            "mean reward: 160.17333333333335; std: 4.1852863966785145\n",
            "training time: 139.59270668399995\n",
            "mean reward: 199.21333333333334; std: 10.65994788396683\n",
            "training time: 152.60065962700037\n",
            "mean reward: 143.87333333333333; std: 5.8700331250248405\n",
            "training time: 164.4758536889999\n",
            "mean reward: 169.82; std: 6.357221615349482\n",
            "training time: 183.99846472699983\n",
            "mean reward: 163.30666666666667; std: 6.037600700793505\n",
            "training time: 195.38776202999998\n",
            "mean reward: 500.0; std: 0.0\n",
            "training time: 213.30875134899998\n"
          ]
        }
      ]
    },
    {
      "cell_type": "code",
      "source": [
        "fig, ax = plt.subplots()\n",
        "plt.xlabel(\"Quantiles\")\n",
        "plt.ylabel(\"Means\")\n",
        "\n",
        "ax.errorbar(quantiles_domain, means, yerr=stds, fmt='-o');\n"
      ],
      "metadata": {
        "colab": {
          "base_uri": "https://localhost:8080/",
          "height": 279
        },
        "id": "WhnSfW1GMT34",
        "outputId": "85a852bf-bd25-4f2c-f20e-aed11831aaad"
      },
      "execution_count": null,
      "outputs": [
        {
          "output_type": "display_data",
          "data": {
            "text/plain": [
              "<Figure size 432x288 with 1 Axes>"
            ],
            "image/png": "[encoded data removed]"
          },
          "metadata": {
            "needs_background": "light"
          }
        }
      ]
    },
    {
      "cell_type": "code",
      "source": [
        "fig, ax = plt.subplots()\n",
        "plt.xlabel(\"Quantiles\")\n",
        "plt.ylabel(\"Training Time\")\n",
        "\n",
        "ax.errorbar(quantiles_domain, times, yerr=stds, fmt='-o');"
      ],
      "metadata": {
        "colab": {
          "base_uri": "https://localhost:8080/",
          "height": 279
        },
        "id": "_k6wPLAEM2nG",
        "outputId": "304c0213-befd-4eb1-c050-34fece3ed67c"
      },
      "execution_count": null,
      "outputs": [
        {
          "output_type": "display_data",
          "data": {
            "text/plain": [
              "<Figure size 432x288 with 1 Axes>"
            ],
            "image/png": "[encoded data removed]"
          },
          "metadata": {
            "needs_background": "light"
          }
        }
      ]
    },
    {
      "cell_type": "code",
      "source": [
        "fig, ax = plt.subplots()\n",
        "plt.xlabel(\"Quantiles\")\n",
        "plt.ylabel(\"Training Time\")\n",
        "ax.errorbar(quantiles_domain, times, fmt='-o');"
      ],
      "metadata": {
        "colab": {
          "base_uri": "https://localhost:8080/",
          "height": 279
        },
        "id": "TpJdzkZHiHH0",
        "outputId": "800ffb0c-483c-4814-9cab-71b4a164f6fd"
      },
      "execution_count": null,
      "outputs": [
        {
          "output_type": "display_data",
          "data": {
            "text/plain": [
              "<Figure size 432x288 with 1 Axes>"
            ],
            "image/png": "[encoded data removed]"
          },
          "metadata": {
            "needs_background": "light"
          }
        }
      ]
    },
    {
      "cell_type": "code",
      "source": [
        "fig, ax = plt.subplots()\n",
        "plt.xlabel(\"Quantiles\")\n",
        "plt.ylabel(\"Standard Deviation\")\n",
        "ax.errorbar(quantiles_domain, stds, fmt='-o');"
      ],
      "metadata": {
        "colab": {
          "base_uri": "https://localhost:8080/",
          "height": 279
        },
        "id": "eAdjruuOiLB9",
        "outputId": "58600854-9010-4c1c-b1ef-02301633c906"
      },
      "execution_count": null,
      "outputs": [
        {
          "output_type": "display_data",
          "data": {
            "text/plain": [
              "<Figure size 432x288 with 1 Axes>"
            ],
            "image/png": "[encoded data removed]"
          },
          "metadata": {
            "needs_background": "light"
          }
        }
      ]
    }
  ]
}