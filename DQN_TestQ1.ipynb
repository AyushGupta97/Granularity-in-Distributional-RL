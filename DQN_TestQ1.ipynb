{
  "nbformat": 4,
  "nbformat_minor": 0,
  "metadata": {
    "colab": {
      "provenance": []
    },
    "kernelspec": {
      "name": "python3",
      "display_name": "Python 3"
    },
    "language_info": {
      "name": "python"
    },
    "accelerator": "GPU"
  },
  "cells": [
    {
      "cell_type": "code",
      "execution_count": null,
      "metadata": {
        "id": "UnNhz4z5mNs4"
      },
      "outputs": [],
      "source": [
        "from torch import nn\n",
        "import torch\n",
        "import gym\n",
        "from collections import deque\n",
        "import numpy as np\n",
        "import random\n",
        "import itertools\n",
        "import pandas as pd\n",
        "import matplotlib.pyplot as plt"
      ]
    },
    {
      "cell_type": "code",
      "source": [
        "class Network(nn.Module):\n",
        "    def __init__(self, env):\n",
        "        super().__init__()\n",
        "        in_features = int(np.prod(env.observation_space.shape))\n",
        "        self.net = nn.Sequential(nn.Linear(in_features,64),\n",
        "                                 nn.Tanh(),\n",
        "                                 nn.Linear(64, env.action_space.n))\n",
        "\n",
        "    def forward(self, x):\n",
        "        return self.net(x)\n",
        "\n",
        "    def act(self, obs):\n",
        "        obs_t = torch.as_tensor(obs, dtype=torch.float32)\n",
        "        q_values = self(obs_t.unsqueeze(0))\n",
        "\n",
        "        max_q_index = torch.argmax(q_values, dim=1)[0]\n",
        "        action = max_q_index.detach().item()\n",
        "\n",
        "        return action"
      ],
      "metadata": {
        "id": "SpKYSDJQmXhd"
      },
      "execution_count": null,
      "outputs": []
    },
    {
      "cell_type": "code",
      "source": [
        "Gamma = 0.99\n",
        "Batch_size = 32\n",
        "Buffer_size = 50000\n",
        "Min_replay_size = 1000\n",
        "Epsilon_start = 1.0\n",
        "Epsilon_end = 0.02\n",
        "Epsilon_decay = 10000\n",
        "target_update_freq = 1000\n",
        "learning_rate = 0.00025\n"
      ],
      "metadata": {
        "id": "KEPHHT5XmcIf"
      },
      "execution_count": null,
      "outputs": []
    },
    {
      "cell_type": "code",
      "source": [
        "env = gym.make(\"CartPole-v0\")\n",
        "output_pd = pd.DataFrame()\n",
        "\n",
        "replay_buffer = deque(maxlen=Buffer_size)\n",
        "rew_buffer = deque([0.0], maxlen=100)\n",
        "\n",
        "episode_reward = 0.0\n",
        "\n",
        "online_net = Network(env)\n",
        "target_net = Network(env)\n",
        "\n",
        "target_net.load_state_dict(online_net.state_dict())\n",
        "optimizer = torch.optim.Adam(online_net.parameters(), lr=learning_rate)\n",
        "\n",
        "obs = env.reset()\n",
        "for _ in range(Min_replay_size):\n",
        "    action = env.action_space.sample()\n",
        "\n",
        "    new_obs, rew, done, info = env.step(action)\n",
        "    transition = (obs, action, rew, done, new_obs)\n",
        "    replay_buffer.append(transition)\n",
        "    obs = new_obs\n",
        "\n",
        "    if done:\n",
        "        obs = env.reset()\n",
        "\n",
        "obs = env.reset()\n",
        "\n",
        "for step in itertools.count():\n",
        "    epsilon = np.interp(step, [0, Epsilon_decay], [Epsilon_start, Epsilon_end])\n",
        "    rnd_sample = random.random()\n",
        "    if rnd_sample <= epsilon:\n",
        "        action = env.action_space.sample()\n",
        "    else:\n",
        "        action = online_net.act(obs)\n",
        "    new_obs, rew, done, _ = env.step(action)\n",
        "    transition = (obs, action, rew, done, new_obs)\n",
        "    replay_buffer.append(transition)\n",
        "    obs = new_obs\n",
        "    episode_reward += rew\n",
        "\n",
        "    if done:\n",
        "        obs = env.reset()\n",
        "\n",
        "        rew_buffer.append(episode_reward)\n",
        "        episode_reward = 0.0\n",
        "    '''\n",
        "    if len(rew_buffer) >= 100:\n",
        "        if np.mean(rew_buffer) >= 195:\n",
        "            while True:\n",
        "                action = online_net.act(obs)\n",
        "\n",
        "                obs, _, done, _ = env.step(action)\n",
        "                env.render()\n",
        "                if done:\n",
        "                    env.reset()\n",
        "    '''\n",
        "    transitions = random.sample(replay_buffer, Batch_size)\n",
        "    obses = np.asarray([t[0] for t in transitions])\n",
        "    actions = np.asarray([t[1] for t in transitions])\n",
        "    rews = np.asarray([t[2] for t in transitions])\n",
        "    dones = np.asarray([t[3] for t in transitions])\n",
        "    new_obses = np.asarray([t[4] for t in transitions])\n",
        "\n",
        "    obses_t = torch.as_tensor(obses, dtype=torch.float32)\n",
        "    actions_t = torch.as_tensor(actions, dtype=torch.int64).unsqueeze(-1)\n",
        "    rews_t = torch.as_tensor(rews, dtype=torch.float32).unsqueeze(-1)\n",
        "    dones_t = torch.as_tensor(dones, dtype=torch.float32).unsqueeze(-1)\n",
        "    new_obses_t  = torch.as_tensor(new_obses, dtype=torch.float32)\n",
        "\n",
        "    target_q_values = target_net(new_obses_t)\n",
        "    max_target_q_values = target_q_values.max(dim=1, keepdim = True)[0]\n",
        "\n",
        "    targets = rews_t + Gamma * (1 - dones_t) * max_target_q_values\n",
        "\n",
        "    q_values = online_net(obses_t)\n",
        "    action_q_values = torch.gather(input=q_values, dim=1 , index=actions_t)\n",
        "    loss = nn.functional.smooth_l1_loss(action_q_values, targets)\n",
        "\n",
        "    optimizer.zero_grad()\n",
        "    loss.backward()\n",
        "    optimizer.step()  \n",
        "\n",
        "    if step % target_update_freq == 0:\n",
        "        target_net.load_state_dict(online_net.state_dict())\n",
        "    if step % 1000 == 0:\n",
        "        '''\n",
        "        if step > 50000:\n",
        "            print()\n",
        "            print(\"Finally\")\n",
        "            print(output)\n",
        "            sys.exit()\n",
        "        '''            \n",
        "        #print('Step ', step)\n",
        "        #print(\"Avg rew \", np.mean(rew_buffer))\n",
        "        output_pd = output_pd.append({\"Reward\": episode_reward, \"Step\": step}, ignore_index=True)\n",
        "\n",
        "        if step == 250000:\n",
        "            break\n"
      ],
      "metadata": {
        "id": "L2VoMcpUmeKb"
      },
      "execution_count": null,
      "outputs": []
    },
    {
      "cell_type": "code",
      "source": [
        "output_pd.plot(x=\"Step\", y=\"Reward\", kind=\"line\")"
      ],
      "metadata": {
        "colab": {
          "base_uri": "https://localhost:8080/",
          "height": 296
        },
        "id": "zB_Aj816moIf",
        "outputId": "b33087d3-d369-485d-9394-fdc208a8bc02"
      },
      "execution_count": null,
      "outputs": [
        {
          "output_type": "execute_result",
          "data": {
            "text/plain": [
              "<matplotlib.axes._subplots.AxesSubplot at 0x7f4215073a10>"
            ]
          },
          "metadata": {},
          "execution_count": 36
        },
        {
          "output_type": "display_data",
          "data": {
            "text/plain": [
              "<Figure size 432x288 with 1 Axes>"
            ],
            "image/png": "[encoded data removed]"
          },
          "metadata": {
            "needs_background": "light"
          }
        }
      ]
    }
  ]
}